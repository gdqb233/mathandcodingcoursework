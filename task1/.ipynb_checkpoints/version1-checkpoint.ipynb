{
 "cells": [
  {
   "cell_type": "markdown",
   "id": "069f4592",
   "metadata": {},
   "source": [
    "# Import libraries and define some common attributes and matrixes"
   ]
  },
  {
   "cell_type": "code",
   "execution_count": 2,
   "id": "f5beec38",
   "metadata": {},
   "outputs": [
    {
     "name": "stdout",
     "output_type": "stream",
     "text": [
      "8 6\n"
     ]
    }
   ],
   "source": [
    "import numpy as np\n",
    "np.random.seed(233)            #global random seed\n",
    "import random\n",
    "random.seed(233)\n",
    "import matplotlib.pyplot as plt\n",
    "\n",
    "a = 20       #dimension of the map\n",
    "b = 15       #dimension of the map\n",
    "\n",
    "smallnumber = 0                     # the lower limit on the map\n",
    "bignumber = 10                      # the upper limit on the map\n",
    "verybignumber = a * b * bignumber + 99999                      # a fake infinite number\n",
    "\n",
    "environmentmap = np.random.randint(smallnumber, bignumber, size = (a, b))            #generate a random map\n",
    "#environmentmap = np.array([[0,2,4,9],[7,1,2,2],[9,2,9,1],[1,5,9,9]])     #we can also set a map by hand\n",
    "\n",
    "environmentmap[0, 0] = 0           #set the start point to be 0.\n",
    "environmentmap[a-1, b-1] = 0      #set the end point to be 0"
   ]
  },
  {
   "cell_type": "markdown",
   "id": "803d53a4",
   "metadata": {},
   "source": [
    "# Visualise the map\n",
    "current_cmap = plt.cm.Blues\n",
    "current_cmap.set_bad(color='red')\n",
    "plt.matshow(environmentmap, cmap=plt.cm.Blues, vmin=0, vmax=10)\n",
    "plt.title(\"map\")\n",
    "for i in range(a):\n",
    "    for j in range(b):\n",
    "      c = environmentmap[i,j]\n",
    "      plt.text(j, i, str(c), va='center', ha='center')\n",
    "plt.show()"
   ]
  },
  {
   "cell_type": "markdown",
   "id": "fe7c8354",
   "metadata": {},
   "source": [
    "# Random"
   ]
  },
  {
   "cell_type": "code",
   "execution_count": 22,
   "id": "05b3f280",
   "metadata": {},
   "outputs": [
    {
     "name": "stdout",
     "output_type": "stream",
     "text": [
      "[[0, 0], [0, 1], [0, 2], [0, 3], [0, 4], [0, 5], [1, 5], [2, 5], [3, 5], [4, 5], [5, 5], [6, 5], [7, 5]]\n"
     ]
    }
   ],
   "source": [
    "x = environmentmap.shape[0]\n",
    "y = environmentmap.shape[1]\n",
    "\n",
    "minborder = min(x,y)\n",
    "\n",
    "tracklist_random = []\n",
    "templocation = [0,0]\n",
    "tracklist_random.append(templocation.copy())\n",
    "while templocation[0] <= x-2 and templocation[1] <= y-2:          #when the bot does not reach the border\n",
    "    dice = random.randint(0, 1)       #go x(x+1) if dice = 0, go y if dice = 1\n",
    "    \n",
    "    if dice == 0:\n",
    "        templocation[0] += 1\n",
    "        \n",
    "    elif dice == 1:\n",
    "        templocation[1] += 1\n",
    "    #print(i, templocation)\n",
    "    tracklist_random.append(templocation.copy())\n",
    "\n",
    "\n",
    "if tracklist_random[-1][0] == x-1:                    #if the robot touches the x border, it can only increase y.  #if 横坐标=19\n",
    "    yremaining = y-1 - tracklist_random[-1][1]\n",
    "    for i in range(yremaining):\n",
    "        templocation[1] += 1\n",
    "        tracklist_random.append(templocation.copy())\n",
    "        \n",
    "elif tracklist_random[-1][1] == y-1:                    #if the robot touches the y border, it can only increase x.\n",
    "    xremaining = x-1 - tracklist_random[-1][0]\n",
    "    for i in range(xremaining):\n",
    "        templocation[0] += 1\n",
    "        tracklist_random.append(templocation.copy())\n",
    "    \n",
    "print('the random route is:', tracklist_random)\n",
    "\n",
    "#-------------------------------------------------------------------------------------------\n",
    "\n",
    "solutionmap = environmentmap.copy()\n",
    "\n",
    "randomdistance = 0\n",
    "for [i, j] in tracklist_random:                                    #If we want to see different results, we change the tracklist here\n",
    "    solutionmap[i, j] = verybignumber\n",
    "    randomdistance += environmentmap[i, j]\n",
    "    \n",
    "current_cmap = plt.cm.Blues\n",
    "current_cmap.set_bad(color='red')\n",
    "plt.matshow(solutionmap, cmap=plt.cm.Blues, vmin=0, vmax=verybignumber)\n",
    "plt.title(\"random route\")\n",
    "for i in range(a):\n",
    "    for j in range(b):\n",
    "      c = environmentmap[i,j]\n",
    "      plt.text(j, i, str(c), va='center', ha='center')\n",
    "plt.show()\n",
    "\n",
    "print('the length of random route is:', randomdistance)"
   ]
  },
  {
   "cell_type": "markdown",
   "id": "4c6108bf",
   "metadata": {},
   "source": [
    "## My algorithm\n"
   ]
  },
  {
   "cell_type": "code",
   "execution_count": 29,
   "id": "6e8fbc41",
   "metadata": {},
   "outputs": [
    {
     "name": "stdout",
     "output_type": "stream",
     "text": [
      "[[0, 0], [0, 1], [1, 1], [1, 2], [1, 3], [1, 4], [2, 4], [3, 4], [3, 5], [4, 5], [5, 5], [6, 5], [7, 5]]\n"
     ]
    }
   ],
   "source": [
    "x = environmentmap.shape[0]\n",
    "y = environmentmap.shape[1]\n",
    "\n",
    "minborder = min(x,y)\n",
    "\n",
    "tracklist_myalgorithm = []\n",
    "templocation = [0,0]\n",
    "tracklist_myalgorithm.append(templocation.copy())\n",
    "while templocation[0] <= x-2 and templocation[1] <= y-2:          #when the bot does not reach the border\n",
    "    #dice = random.randint(0, 1)       #go (x+1) if the time there is smaller, go (y+1) if the time there is smaller.\n",
    "    if environmentmap[templocation[0]+1, templocation[1]] <= environmentmap[templocation[0], templocation[1]+1]:\n",
    "        templocation[0] += 1\n",
    "        \n",
    "    elif environmentmap[templocation[0]+1, templocation[1]] >= environmentmap[templocation[0], templocation[1]+1]:\n",
    "        templocation[1] += 1\n",
    "    #print(i, templocation)\n",
    "    tracklist_myalgorithm.append(templocation.copy())\n",
    "\n",
    "\n",
    "if tracklist_myalgorithm[-1][0] == x-1:                    #if the robot touches the x border, it can only increase y.\n",
    "    yremaining = y-1 - tracklist[-1][1]\n",
    "    for i in range(yremaining):\n",
    "        templocation[1] += 1\n",
    "        tracklist_myalgorithm.append(templocation.copy())\n",
    "        \n",
    "elif tracklist_myalgorithm[-1][1] == y-1:                    #if the robot touches the y border, it can only increase x.\n",
    "    xremaining = x-1 - tracklist_myalgorithm[-1][0]\n",
    "    for i in range(xremaining):\n",
    "        templocation[0] += 1\n",
    "        tracklist_myalgorithm.append(templocation.copy())\n",
    "        \n",
    "print('My algorithm route:', tracklist_myalgorithm)\n",
    "\n",
    "#------------------------------------------------------------------------------------------------------\n",
    "\n",
    "solutionmap = environmentmap.copy()\n",
    "\n",
    "myalgorithmdistance = 0\n",
    "for [i, j] in tracklist_myalgorithm:                                    #If we want to see different results, we change the tracklist here\n",
    "    solutionmap[i, j] = verybignumber\n",
    "    myalgorithmdistance += environmentmap[i, j]\n",
    "    \n",
    "current_cmap = plt.cm.Blues\n",
    "current_cmap.set_bad(color='red')\n",
    "plt.matshow(solutionmap, cmap=plt.cm.Blues, vmin=0, vmax=verybignumber)\n",
    "plt.title(\"my algorithm\")\n",
    "for i in range(a):\n",
    "    for j in range(b):\n",
    "      c = environmentmap[i,j]\n",
    "      plt.text(j, i, str(c), va='center', ha='center')\n",
    "plt.show()\n",
    "\n",
    "print('the length of my algorithm is:', myalgorithmdistance)"
   ]
  },
  {
   "cell_type": "markdown",
   "id": "98306015",
   "metadata": {},
   "source": [
    "# Dijkstra"
   ]
  },
  {
   "cell_type": "code",
   "execution_count": 16,
   "id": "58c97f99",
   "metadata": {},
   "outputs": [
    {
     "name": "stdout",
     "output_type": "stream",
     "text": [
      "[[0, 0], [1, 0], [2, 0], [3, 0], [3, 1], [3, 2], [4, 2], [5, 2], [5, 3], [5, 4], [6, 4], [7, 4], [7, 5]]\n"
     ]
    }
   ],
   "source": [
    "# First we initialise some axillary matrixes   \n",
    "\n",
    "#Second list, labelled or not\n",
    "is_labelled = np.zeros(shape = (a, b), dtype = 'bool')\n",
    "\n",
    "\n",
    "#Third list, distance from the initial point\n",
    "#distance = np.ones(shape = (a, b), dtype=int) * np.Infinity\n",
    "distance = np.empty(shape = (a, b), dtype = 'int')\n",
    "for i in range(a):\n",
    "    for j in range(b):\n",
    "        distance[i, j] = verybignumber\n",
    "distance[0, 0] = 0\n",
    "\n",
    "\n",
    "#forth list, The previsous location. We could use one list to do this, but to make it easy, I use to\n",
    "lastcelly = np.zeros(shape = (a, b), dtype = 'int')\n",
    "lastcellx = np.zeros(shape = (a, b), dtype = 'int')\n",
    "\n",
    "###########to be done"
   ]
  },
  {
   "cell_type": "markdown",
   "id": "4401624c",
   "metadata": {},
   "source": [
    "# Compare and visualise results"
   ]
  },
  {
   "cell_type": "code",
   "execution_count": null,
   "id": "fcb59517",
   "metadata": {},
   "outputs": [],
   "source": []
  },
  {
   "cell_type": "code",
   "execution_count": null,
   "id": "0fd020fe",
   "metadata": {},
   "outputs": [],
   "source": []
  },
  {
   "cell_type": "code",
   "execution_count": null,
   "id": "c70a44cc",
   "metadata": {},
   "outputs": [],
   "source": []
  }
 ],
 "metadata": {
  "kernelspec": {
   "display_name": "Python 3",
   "language": "python",
   "name": "python3"
  },
  "language_info": {
   "codemirror_mode": {
    "name": "ipython",
    "version": 3
   },
   "file_extension": ".py",
   "mimetype": "text/x-python",
   "name": "python",
   "nbconvert_exporter": "python",
   "pygments_lexer": "ipython3",
   "version": "3.6.13"
  }
 },
 "nbformat": 4,
 "nbformat_minor": 5
}
