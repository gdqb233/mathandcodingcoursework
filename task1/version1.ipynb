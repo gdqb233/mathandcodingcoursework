{
 "cells": [
  {
   "cell_type": "markdown",
   "id": "fe1303b1",
   "metadata": {},
   "source": [
    "# Import libraries and define some common attributes and matrixes"
   ]
  },
  {
   "cell_type": "code",
   "execution_count": 2,
   "id": "dbdcf909",
   "metadata": {},
   "outputs": [
    {
     "name": "stdout",
     "output_type": "stream",
     "text": [
      "8 6\n"
     ]
    }
   ],
   "source": [
    "import numpy as np\n",
    "import matplotlib.pyplot as plt\n",
    "import random\n",
    "\n",
    "\n",
    "a = 8     \n",
    "b = 6      \n",
    "smallnumber = 0\n",
    "bignumber = 10\n",
    "verybignumber = a * b* bignumber +99999              # a fake infinite number, will need it in dijstra\n",
    "\n",
    "#First list, the map\n",
    "environmentmap = np.random.randint(smallnumber, bignumber, size = (a, b))       # a random map\n",
    "\n",
    "#environmentmap = np.array([[0,2,4,9],[7,1,2,2],[9,2,9,1],[1,5,9,9]])     \n",
    "#environmentmap = another test map\n",
    "environmentmap[0, 0] = 0     #set the start point to be 0. Not necessary, but looks more comfortable.\n",
    "\n",
    "x = environmentmap.shape[0]\n",
    "y = environmentmap.shape[1]\n",
    "\n",
    "print(x, y)"
   ]
  },
  {
   "cell_type": "markdown",
   "id": "24510c61",
   "metadata": {},
   "source": [
    "# Visualise the map\n",
    "to be done"
   ]
  },
  {
   "cell_type": "markdown",
   "id": "6a5f21d8",
   "metadata": {},
   "source": [
    "# Random"
   ]
  },
  {
   "cell_type": "code",
   "execution_count": 22,
   "id": "f927bbde",
   "metadata": {},
   "outputs": [
    {
     "name": "stdout",
     "output_type": "stream",
     "text": [
      "[[0, 0], [0, 1], [0, 2], [0, 3], [0, 4], [0, 5], [1, 5], [2, 5], [3, 5], [4, 5], [5, 5], [6, 5], [7, 5]]\n"
     ]
    }
   ],
   "source": [
    "minborder = min(x,y)\n",
    "\n",
    "tracklist_random = []\n",
    "templocation = [0,0]\n",
    "tracklist_random.append(templocation.copy())\n",
    "while templocation[0] <= x-2 and templocation[1] <= y-2:          #when the bot does not reach the border\n",
    "    dice = random.randint(0, 1)       #go x(x+1) if dice = 0, go y if dice = 1\n",
    "    if dice == 0:\n",
    "        templocation[0] += 1\n",
    "        \n",
    "    elif dice == 1:\n",
    "        templocation[1] += 1\n",
    "    #print(i, templocation)\n",
    "    tracklist_random.append(templocation.copy())\n",
    "\n",
    "\n",
    "if tracklist_random[-1][0] == x-1:                    #if the robot touches the x border, it can only increase y.\n",
    "    yremaining = y-1 - tracklist_random[-1][1]\n",
    "    for i in range(yremaining):\n",
    "        templocation[1] += 1\n",
    "        tracklist_random.append(templocation.copy())\n",
    "        \n",
    "elif tracklist_random[-1][1] == y-1:                    #if the robot touches the y border, it can only increase x.\n",
    "    xremaining = x-1 - tracklist_random[-1][0]\n",
    "    for i in range(xremaining):\n",
    "        templocation[0] += 1\n",
    "        tracklist_random.append(templocation.copy())\n",
    "    \n",
    "\n",
    "\n",
    "print(tracklist_random)"
   ]
  },
  {
   "cell_type": "markdown",
   "id": "57a613b3",
   "metadata": {},
   "source": [
    "## My algorithm\n"
   ]
  },
  {
   "cell_type": "code",
   "execution_count": 29,
   "id": "80c60098",
   "metadata": {},
   "outputs": [
    {
     "name": "stdout",
     "output_type": "stream",
     "text": [
      "[[0, 0], [0, 1], [1, 1], [1, 2], [1, 3], [1, 4], [2, 4], [3, 4], [3, 5], [4, 5], [5, 5], [6, 5], [7, 5]]\n"
     ]
    }
   ],
   "source": [
    "minborder = min(x,y)\n",
    "\n",
    "tracklist_myalgorithm = []\n",
    "templocation = [0,0]\n",
    "tracklist_myalgorithm.append(templocation.copy())\n",
    "while templocation[0] <= x-2 and templocation[1] <= y-2:          #when the bot does not reach the border\n",
    "    #dice = random.randint(0, 1)       #go (x+1) if the time there is smaller, go (y+1) if the time there is smaller.\n",
    "    if environmentmap[templocation[0]+1, templocation[1]] <= environmentmap[templocation[0], templocation[1]+1]:\n",
    "        templocation[0] += 1\n",
    "        \n",
    "    elif environmentmap[templocation[0]+1, templocation[1]] >= environmentmap[templocation[0], templocation[1]+1]:\n",
    "        templocation[1] += 1\n",
    "    #print(i, templocation)\n",
    "    tracklist_myalgorithm.append(templocation.copy())\n",
    "\n",
    "\n",
    "if tracklist_myalgorithm[-1][0] == x-1:                    #if the robot touches the x border, it can only increase y.\n",
    "    yremaining = y-1 - tracklist[-1][1]\n",
    "    for i in range(yremaining):\n",
    "        templocation[1] += 1\n",
    "        tracklist_myalgorithm.append(templocation.copy())\n",
    "        \n",
    "elif tracklist_myalgorithm[-1][1] == y-1:                    #if the robot touches the y border, it can only increase x.\n",
    "    xremaining = x-1 - tracklist_myalgorithm[-1][0]\n",
    "    for i in range(xremaining):\n",
    "        templocation[0] += 1\n",
    "        tracklist_myalgorithm.append(templocation.copy())\n",
    "        \n",
    "print(tracklist_myalgorithm)"
   ]
  },
  {
   "cell_type": "markdown",
   "id": "655e02b1",
   "metadata": {},
   "source": [
    "# Dijstra"
   ]
  },
  {
   "cell_type": "code",
   "execution_count": 16,
   "id": "fc9f7951",
   "metadata": {},
   "outputs": [
    {
     "name": "stdout",
     "output_type": "stream",
     "text": [
      "[[0, 0], [1, 0], [2, 0], [3, 0], [3, 1], [3, 2], [4, 2], [5, 2], [5, 3], [5, 4], [6, 4], [7, 4], [7, 5]]\n"
     ]
    }
   ],
   "source": [
    "# First we initialise some axillary matrixes   \n",
    "\n",
    "#Second list, labelled or not\n",
    "is_labelled = np.zeros(shape = (a, b), dtype = 'bool')\n",
    "\n",
    "\n",
    "#Third list, distance from the initial point\n",
    "#distance = np.ones(shape = (a, b), dtype=int) * np.Infinity\n",
    "distance = np.empty(shape = (a, b), dtype = 'int')\n",
    "for i in range(a):\n",
    "    for j in range(b):\n",
    "        distance[i, j] = verybignumber\n",
    "distance[0, 0] = 0\n",
    "\n",
    "\n",
    "#forth list, The previsous location. We could use one list to do this, but to make it easy, I use to\n",
    "lastcelly = np.zeros(shape = (a, b), dtype = 'int')\n",
    "lastcellx = np.zeros(shape = (a, b), dtype = 'int')\n",
    "\n",
    "###########to be done"
   ]
  },
  {
   "cell_type": "markdown",
   "id": "6bf69f88",
   "metadata": {},
   "source": [
    "# Compare and visualise results"
   ]
  },
  {
   "cell_type": "code",
   "execution_count": null,
   "id": "2a3709a6",
   "metadata": {},
   "outputs": [],
   "source": []
  },
  {
   "cell_type": "code",
   "execution_count": null,
   "id": "b0d4fb61",
   "metadata": {},
   "outputs": [],
   "source": []
  },
  {
   "cell_type": "code",
   "execution_count": null,
   "id": "c51389d3",
   "metadata": {},
   "outputs": [],
   "source": []
  }
 ],
 "metadata": {
  "kernelspec": {
   "display_name": "Python 3",
   "language": "python",
   "name": "python3"
  },
  "language_info": {
   "codemirror_mode": {
    "name": "ipython",
    "version": 3
   },
   "file_extension": ".py",
   "mimetype": "text/x-python",
   "name": "python",
   "nbconvert_exporter": "python",
   "pygments_lexer": "ipython3",
   "version": "3.6.13"
  }
 },
 "nbformat": 4,
 "nbformat_minor": 5
}
